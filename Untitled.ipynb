{
 "cells": [
  {
   "cell_type": "code",
   "execution_count": 1,
   "id": "29efe478-432f-4a42-8b34-f34e32cd5981",
   "metadata": {},
   "outputs": [
    {
     "data": {
      "text/plain": [
       "4"
      ]
     },
     "execution_count": 1,
     "metadata": {},
     "output_type": "execute_result"
    }
   ],
   "source": [
    "4"
   ]
  },
  {
   "cell_type": "code",
   "execution_count": 2,
   "id": "8b368c6f-ea86-4689-b2c2-d39876bf8208",
   "metadata": {},
   "outputs": [
    {
     "data": {
      "text/plain": [
       "27"
      ]
     },
     "execution_count": 2,
     "metadata": {},
     "output_type": "execute_result"
    }
   ],
   "source": [
    "3**3\n"
   ]
  },
  {
   "cell_type": "code",
   "execution_count": 3,
   "id": "a17f46aa-7cb0-4fbe-82cf-f418e21ca71c",
   "metadata": {},
   "outputs": [
    {
     "data": {
      "text/plain": [
       "9"
      ]
     },
     "execution_count": 3,
     "metadata": {},
     "output_type": "execute_result"
    }
   ],
   "source": [
    "27//3"
   ]
  },
  {
   "cell_type": "code",
   "execution_count": 4,
   "id": "8ed69b0f-313a-4970-8deb-045dd24eb2ee",
   "metadata": {},
   "outputs": [
    {
     "data": {
      "text/plain": [
       "3"
      ]
     },
     "execution_count": 4,
     "metadata": {},
     "output_type": "execute_result"
    }
   ],
   "source": [
    "27&3"
   ]
  },
  {
   "cell_type": "code",
   "execution_count": 5,
   "id": "2b63a76c-624d-4e0a-926e-87c6043ce95d",
   "metadata": {},
   "outputs": [
    {
     "data": {
      "text/plain": [
       "27"
      ]
     },
     "execution_count": 5,
     "metadata": {},
     "output_type": "execute_result"
    }
   ],
   "source": [
    "27 | 3"
   ]
  },
  {
   "cell_type": "code",
   "execution_count": 6,
   "id": "cc867da3-817b-49b0-b2dd-04961d14c646",
   "metadata": {},
   "outputs": [],
   "source": [
    "nafarat=3"
   ]
  },
  {
   "cell_type": "code",
   "execution_count": 9,
   "id": "8d393498-1e1c-4a18-8d49-dda9c753d8dc",
   "metadata": {},
   "outputs": [
    {
     "data": {
      "text/plain": [
       "9"
      ]
     },
     "execution_count": 9,
     "metadata": {},
     "output_type": "execute_result"
    }
   ],
   "source": [
    "nafarat"
   ]
  },
  {
   "cell_type": "code",
   "execution_count": 8,
   "id": "0868387f-01eb-482b-8ac0-6deddf5e634a",
   "metadata": {},
   "outputs": [],
   "source": [
    "nafarat=nafarat+6"
   ]
  },
  {
   "cell_type": "code",
   "execution_count": 10,
   "id": "7f19e552-4ef2-4d72-97b9-87ccee0b4e3c",
   "metadata": {},
   "outputs": [],
   "source": [
    "nafarat=nafarat+1"
   ]
  },
  {
   "cell_type": "code",
   "execution_count": 11,
   "id": "f559eb49-d981-45c9-9037-952a4579f4c7",
   "metadata": {},
   "outputs": [
    {
     "data": {
      "text/plain": [
       "10"
      ]
     },
     "execution_count": 11,
     "metadata": {},
     "output_type": "execute_result"
    }
   ],
   "source": [
    "nafarat"
   ]
  },
  {
   "cell_type": "code",
   "execution_count": 12,
   "id": "1183b11a-49d1-44c5-a2a5-466ae0ece928",
   "metadata": {},
   "outputs": [],
   "source": [
    "nafarat='d'"
   ]
  },
  {
   "cell_type": "code",
   "execution_count": 13,
   "id": "f03baef4-6228-48a4-931b-01dd1d1447a2",
   "metadata": {},
   "outputs": [
    {
     "ename": "TypeError",
     "evalue": "can only concatenate str (not \"int\") to str",
     "output_type": "error",
     "traceback": [
      "\u001b[31m---------------------------------------------------------------------------\u001b[39m",
      "\u001b[31mTypeError\u001b[39m                                 Traceback (most recent call last)",
      "\u001b[36mCell\u001b[39m\u001b[36m \u001b[39m\u001b[32mIn[13]\u001b[39m\u001b[32m, line 1\u001b[39m\n\u001b[32m----> \u001b[39m\u001b[32m1\u001b[39m nafarat=\u001b[43mnafarat\u001b[49m\u001b[43m+\u001b[49m\u001b[32;43m1\u001b[39;49m\n",
      "\u001b[31mTypeError\u001b[39m: can only concatenate str (not \"int\") to str"
     ]
    }
   ],
   "source": [
    "nafarat=nafarat+1"
   ]
  },
  {
   "cell_type": "code",
   "execution_count": null,
   "id": "b5bf8a75-b6c1-4a99-84fa-b42c4a5ae0bb",
   "metadata": {},
   "outputs": [],
   "source": []
  }
 ],
 "metadata": {
  "kernelspec": {
   "display_name": "Python 3 (ipykernel)",
   "language": "python",
   "name": "python3"
  },
  "language_info": {
   "codemirror_mode": {
    "name": "ipython",
    "version": 3
   },
   "file_extension": ".py",
   "mimetype": "text/x-python",
   "name": "python",
   "nbconvert_exporter": "python",
   "pygments_lexer": "ipython3",
   "version": "3.13.5"
  }
 },
 "nbformat": 4,
 "nbformat_minor": 5
}
